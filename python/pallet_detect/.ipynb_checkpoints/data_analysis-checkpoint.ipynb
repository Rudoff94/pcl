{
 "cells": [
  {
   "cell_type": "code",
   "execution_count": 25,
   "id": "666e0647-c736-4d1e-8d59-4c201e018f7b",
   "metadata": {},
   "outputs": [],
   "source": [
    "import numpy as np\n",
    "import matplotlib.pyplot as plt\n",
    "import pandas as pd"
   ]
  },
  {
   "cell_type": "code",
   "execution_count": 26,
   "id": "d2f299c3-4cda-4a9c-af24-ea4c8f077ad2",
   "metadata": {},
   "outputs": [],
   "source": [
    "np_data = np.loadtxt(\"pc_rack.txt\")\n",
    "df = pd.DataFrame(data=np_data, columns=[\"x\", \"y\",\"z\", \"color\"])\n",
    "df = df.drop(columns=[\"color\"])"
   ]
  },
  {
   "cell_type": "code",
   "execution_count": 27,
   "id": "43f38a60-178b-475f-acc8-e1a83228e699",
   "metadata": {},
   "outputs": [
    {
     "data": {
      "text/html": [
       "<div>\n",
       "<style scoped>\n",
       "    .dataframe tbody tr th:only-of-type {\n",
       "        vertical-align: middle;\n",
       "    }\n",
       "\n",
       "    .dataframe tbody tr th {\n",
       "        vertical-align: top;\n",
       "    }\n",
       "\n",
       "    .dataframe thead th {\n",
       "        text-align: right;\n",
       "    }\n",
       "</style>\n",
       "<table border=\"1\" class=\"dataframe\">\n",
       "  <thead>\n",
       "    <tr style=\"text-align: right;\">\n",
       "      <th></th>\n",
       "      <th>x</th>\n",
       "      <th>y</th>\n",
       "      <th>z</th>\n",
       "    </tr>\n",
       "  </thead>\n",
       "  <tbody>\n",
       "    <tr>\n",
       "      <th>0</th>\n",
       "      <td>-0.000242</td>\n",
       "      <td>-0.065440</td>\n",
       "      <td>0.173050</td>\n",
       "    </tr>\n",
       "    <tr>\n",
       "      <th>1</th>\n",
       "      <td>0.000549</td>\n",
       "      <td>-0.065925</td>\n",
       "      <td>0.173259</td>\n",
       "    </tr>\n",
       "    <tr>\n",
       "      <th>2</th>\n",
       "      <td>-0.000156</td>\n",
       "      <td>-0.070103</td>\n",
       "      <td>0.182000</td>\n",
       "    </tr>\n",
       "    <tr>\n",
       "      <th>3</th>\n",
       "      <td>0.001104</td>\n",
       "      <td>-0.070972</td>\n",
       "      <td>0.185167</td>\n",
       "    </tr>\n",
       "    <tr>\n",
       "      <th>4</th>\n",
       "      <td>-0.000403</td>\n",
       "      <td>-0.067978</td>\n",
       "      <td>0.182250</td>\n",
       "    </tr>\n",
       "  </tbody>\n",
       "</table>\n",
       "</div>"
      ],
      "text/plain": [
       "          x         y         z\n",
       "0 -0.000242 -0.065440  0.173050\n",
       "1  0.000549 -0.065925  0.173259\n",
       "2 -0.000156 -0.070103  0.182000\n",
       "3  0.001104 -0.070972  0.185167\n",
       "4 -0.000403 -0.067978  0.182250"
      ]
     },
     "execution_count": 27,
     "metadata": {},
     "output_type": "execute_result"
    }
   ],
   "source": [
    "df.head()"
   ]
  },
  {
   "cell_type": "code",
   "execution_count": 28,
   "id": "896b8e8d-4b5e-463b-b05d-583208867a59",
   "metadata": {},
   "outputs": [
    {
     "data": {
      "text/html": [
       "<div>\n",
       "<style scoped>\n",
       "    .dataframe tbody tr th:only-of-type {\n",
       "        vertical-align: middle;\n",
       "    }\n",
       "\n",
       "    .dataframe tbody tr th {\n",
       "        vertical-align: top;\n",
       "    }\n",
       "\n",
       "    .dataframe thead th {\n",
       "        text-align: right;\n",
       "    }\n",
       "</style>\n",
       "<table border=\"1\" class=\"dataframe\">\n",
       "  <thead>\n",
       "    <tr style=\"text-align: right;\">\n",
       "      <th></th>\n",
       "      <th>x</th>\n",
       "      <th>y</th>\n",
       "      <th>z</th>\n",
       "    </tr>\n",
       "  </thead>\n",
       "  <tbody>\n",
       "    <tr>\n",
       "      <th>count</th>\n",
       "      <td>12343.000000</td>\n",
       "      <td>12343.000000</td>\n",
       "      <td>12343.000000</td>\n",
       "    </tr>\n",
       "    <tr>\n",
       "      <th>mean</th>\n",
       "      <td>0.006519</td>\n",
       "      <td>-0.118564</td>\n",
       "      <td>0.786070</td>\n",
       "    </tr>\n",
       "    <tr>\n",
       "      <th>std</th>\n",
       "      <td>0.286032</td>\n",
       "      <td>0.197256</td>\n",
       "      <td>0.063270</td>\n",
       "    </tr>\n",
       "    <tr>\n",
       "      <th>min</th>\n",
       "      <td>-0.590564</td>\n",
       "      <td>-0.550774</td>\n",
       "      <td>0.173050</td>\n",
       "    </tr>\n",
       "    <tr>\n",
       "      <th>25%</th>\n",
       "      <td>-0.222783</td>\n",
       "      <td>-0.284845</td>\n",
       "      <td>0.742760</td>\n",
       "    </tr>\n",
       "    <tr>\n",
       "      <th>50%</th>\n",
       "      <td>0.054268</td>\n",
       "      <td>-0.120433</td>\n",
       "      <td>0.771059</td>\n",
       "    </tr>\n",
       "    <tr>\n",
       "      <th>75%</th>\n",
       "      <td>0.225754</td>\n",
       "      <td>0.038876</td>\n",
       "      <td>0.795176</td>\n",
       "    </tr>\n",
       "    <tr>\n",
       "      <th>max</th>\n",
       "      <td>0.604751</td>\n",
       "      <td>0.377531</td>\n",
       "      <td>0.999667</td>\n",
       "    </tr>\n",
       "  </tbody>\n",
       "</table>\n",
       "</div>"
      ],
      "text/plain": [
       "                  x             y             z\n",
       "count  12343.000000  12343.000000  12343.000000\n",
       "mean       0.006519     -0.118564      0.786070\n",
       "std        0.286032      0.197256      0.063270\n",
       "min       -0.590564     -0.550774      0.173050\n",
       "25%       -0.222783     -0.284845      0.742760\n",
       "50%        0.054268     -0.120433      0.771059\n",
       "75%        0.225754      0.038876      0.795176\n",
       "max        0.604751      0.377531      0.999667"
      ]
     },
     "execution_count": 28,
     "metadata": {},
     "output_type": "execute_result"
    }
   ],
   "source": [
    "df.describe()"
   ]
  },
  {
   "cell_type": "code",
   "execution_count": 29,
   "id": "662d60da-cdd0-4dd0-816d-ecbb4c27f9eb",
   "metadata": {},
   "outputs": [
    {
     "name": "stdout",
     "output_type": "stream",
     "text": [
      "(array([6.000e+00, 0.000e+00, 0.000e+00, 0.000e+00, 0.000e+00, 0.000e+00,\n",
      "       0.000e+00, 0.000e+00, 0.000e+00, 0.000e+00, 0.000e+00, 0.000e+00,\n",
      "       0.000e+00, 0.000e+00, 0.000e+00, 1.000e+00, 0.000e+00, 0.000e+00,\n",
      "       8.000e+00, 3.100e+01, 4.513e+03, 3.364e+03, 1.830e+03, 6.580e+02,\n",
      "       3.730e+02, 3.610e+02, 3.070e+02, 3.070e+02, 3.060e+02, 2.780e+02]), array([0.17305   , 0.20060389, 0.22815778, 0.25571168, 0.28326557,\n",
      "       0.31081946, 0.33837335, 0.36592724, 0.39348113, 0.42103503,\n",
      "       0.44858892, 0.47614281, 0.5036967 , 0.53125059, 0.55880448,\n",
      "       0.58635838, 0.61391227, 0.64146616, 0.66902005, 0.69657394,\n",
      "       0.72412783, 0.75168173, 0.77923562, 0.80678951, 0.8343434 ,\n",
      "       0.86189729, 0.88945118, 0.91700508, 0.94455897, 0.97211286,\n",
      "       0.99966675]), <a list of 30 Patch objects>)\n"
     ]
    },
    {
     "data": {
      "text/plain": [
       "[<matplotlib.lines.Line2D at 0x7f2df5163ca0>]"
      ]
     },
     "execution_count": 29,
     "metadata": {},
     "output_type": "execute_result"
    },
    {
     "data": {
      "image/png": "[encoded data removed]",
      "text/plain": [
       "<Figure size 432x288 with 1 Axes>"
      ]
     },
     "metadata": {
      "needs_background": "light"
     },
     "output_type": "display_data"
    }
   ],
   "source": [
    "median = df['z'].median()\n",
    "mean = df['z'].mean()\n",
    "hist = plt.hist(df['z'], 30)\n",
    "print(hist)\n",
    "plt.plot([median, median], [0, np.max(hist[0])])\n",
    "plt.plot([mean, mean], [0, np.max(hist[0])])"
   ]
  },
  {
   "cell_type": "code",
   "execution_count": null,
   "id": "4bb27d09-7339-4eee-abf9-e924937e202e",
   "metadata": {},
   "outputs": [],
   "source": [
    "dfz = df['z'].sort_values()\n",
    "window = 10 #estimate#int(dfz.shape[0]*0.01)\n",
    "#smoothing_data = dfz.rolling(window, min_periods=1).mean()\n",
    "smoothing_data = dfz\n",
    "diff1 = smoothing_data.diff()\n",
    "diff2 = diff1.diff()\n",
    "\n",
    "print('window', window)\n",
    "print(diff1.shape, diff2.shape)\n",
    "dfz.describe()"
   ]
  },
  {
   "cell_type": "code",
   "execution_count": 30,
   "id": "ed34a700-3a44-491a-ae60-8908c657ac7c",
   "metadata": {},
   "outputs": [
    {
     "name": "stdout",
     "output_type": "stream",
     "text": [
      "window 10\n",
      "(12343,) (12343,)\n"
     ]
    },
    {
     "name": "stderr",
     "output_type": "stream",
     "text": [
      "/usr/lib/python3/dist-packages/matplotlib/cbook/__init__.py:1402: FutureWarning: Support for multi-dimensional indexing (e.g. `obj[:, None]`) is deprecated and will be removed in a future version.  Convert to a numpy array before indexing instead.\n",
      "  ndim = x[:, None].ndim\n",
      "/usr/lib/python3/dist-packages/matplotlib/axes/_base.py:276: FutureWarning: Support for multi-dimensional indexing (e.g. `obj[:, None]`) is deprecated and will be removed in a future version.  Convert to a numpy array before indexing instead.\n",
      "  x = x[:, np.newaxis]\n",
      "/usr/lib/python3/dist-packages/matplotlib/axes/_base.py:278: FutureWarning: Support for multi-dimensional indexing (e.g. `obj[:, None]`) is deprecated and will be removed in a future version.  Convert to a numpy array before indexing instead.\n",
      "  y = y[:, np.newaxis]\n"
     ]
    },
    {
     "data": {
      "text/plain": [
       "[<matplotlib.lines.Line2D at 0x7f2df4253f70>]"
      ]
     },
     "execution_count": 30,
     "metadata": {},
     "output_type": "execute_result"
    },
    {
     "data": {
      "image/png": "[encoded data removed]",
      "text/plain": [
       "<Figure size 1440x1440 with 8 Axes>"
      ]
     },
     "metadata": {
      "needs_background": "light"
     },
     "output_type": "display_data"
    }
   ],
   "source": [
    "fig, ax = plt.subplots(2,4, figsize=(20, 20))\n",
    "\n",
    "ax[0, 0].scatter(dfz, diff1)\n",
    "ax[0, 1].scatter(dfz, diff2)\n",
    "ax[0, 2].scatter([x for x in range(dfz.shape[0])], dfz)\n",
    "ax[0, 3].scatter([x for x in range(dfz.shape[0])], smoothing_data)\n",
    "ax[1, 0].plot(dfz, diff1)\n",
    "ax[1, 1].plot(dfz, diff2)\n",
    "ax[1, 2].plot([x for x in range(dfz.shape[0])],dfz)\n",
    "ax[1, 3].plot([x for x in range(dfz.shape[0])],smoothing_data)"
   ]
  },
  {
   "cell_type": "code",
   "execution_count": 31,
   "id": "30197247-2ef4-4cae-95f8-1a375853719f",
   "metadata": {
    "tags": []
   },
   "outputs": [
    {
     "data": {
      "text/html": [
       "<div>\n",
       "<style scoped>\n",
       "    .dataframe tbody tr th:only-of-type {\n",
       "        vertical-align: middle;\n",
       "    }\n",
       "\n",
       "    .dataframe tbody tr th {\n",
       "        vertical-align: top;\n",
       "    }\n",
       "\n",
       "    .dataframe thead th {\n",
       "        text-align: right;\n",
       "    }\n",
       "</style>\n",
       "<table border=\"1\" class=\"dataframe\">\n",
       "  <thead>\n",
       "    <tr style=\"text-align: right;\">\n",
       "      <th></th>\n",
       "      <th>z</th>\n",
       "      <th>dif1</th>\n",
       "      <th>dif2</th>\n",
       "    </tr>\n",
       "  </thead>\n",
       "  <tbody>\n",
       "    <tr>\n",
       "      <th>0</th>\n",
       "      <td>0.173050</td>\n",
       "      <td>NaN</td>\n",
       "      <td>NaN</td>\n",
       "    </tr>\n",
       "    <tr>\n",
       "      <th>1</th>\n",
       "      <td>0.173259</td>\n",
       "      <td>0.000209</td>\n",
       "      <td>NaN</td>\n",
       "    </tr>\n",
       "    <tr>\n",
       "      <th>5</th>\n",
       "      <td>0.181417</td>\n",
       "      <td>0.008158</td>\n",
       "      <td>0.007949</td>\n",
       "    </tr>\n",
       "    <tr>\n",
       "      <th>2</th>\n",
       "      <td>0.182000</td>\n",
       "      <td>0.000583</td>\n",
       "      <td>-0.007575</td>\n",
       "    </tr>\n",
       "    <tr>\n",
       "      <th>4</th>\n",
       "      <td>0.182250</td>\n",
       "      <td>0.000250</td>\n",
       "      <td>-0.000333</td>\n",
       "    </tr>\n",
       "  </tbody>\n",
       "</table>\n",
       "</div>"
      ],
      "text/plain": [
       "          z      dif1      dif2\n",
       "0  0.173050       NaN       NaN\n",
       "1  0.173259  0.000209       NaN\n",
       "5  0.181417  0.008158  0.007949\n",
       "2  0.182000  0.000583 -0.007575\n",
       "4  0.182250  0.000250 -0.000333"
      ]
     },
     "execution_count": 31,
     "metadata": {},
     "output_type": "execute_result"
    }
   ],
   "source": [
    "div = pd.concat([smoothing_data, diff1, diff2], axis=1)\n",
    "div.columns = ['z', 'dif1','dif2']\n",
    "div.head()\n",
    "#np_array = div.to_numpy()\n",
    "# for i in np_array:\n",
    "#     print(i)"
   ]
  },
  {
   "cell_type": "code",
   "execution_count": 32,
   "id": "bb8c3c14-f928-4140-b29b-749df5ddd210",
   "metadata": {},
   "outputs": [
    {
     "data": {
      "image/png": "[encoded data removed]",
      "text/plain": [
       "<Figure size 432x288 with 1 Axes>"
      ]
     },
     "metadata": {
      "needs_background": "light"
     },
     "output_type": "display_data"
    }
   ],
   "source": [
    "hist = plt.hist(df['z'], 100)\n",
    "picks_df = div['z'][(div['dif1'] == 0) & (div['dif2'] == 0)]\n",
    "\n",
    "for pick in np.sort(picks_df)[:1]:\n",
    "    plt.plot([pick, pick], [0, 1.1*np.max(hist[0])])"
   ]
  }
 ],
 "metadata": {
  "kernelspec": {
   "display_name": "Python 3 (ipykernel)",
   "language": "python",
   "name": "python3"
  },
  "language_info": {
   "codemirror_mode": {
    "name": "ipython",
    "version": 3
   },
   "file_extension": ".py",
   "mimetype": "text/x-python",
   "name": "python",
   "nbconvert_exporter": "python",
   "pygments_lexer": "ipython3",
   "version": "3.8.10"
  }
 },
 "nbformat": 4,
 "nbformat_minor": 5
}
